{
 "cells": [
  {
   "cell_type": "code",
   "execution_count": 159,
   "metadata": {},
   "outputs": [
    {
     "data": {
      "text/html": [
       "<div>\n",
       "<style scoped>\n",
       "    .dataframe tbody tr th:only-of-type {\n",
       "        vertical-align: middle;\n",
       "    }\n",
       "\n",
       "    .dataframe tbody tr th {\n",
       "        vertical-align: top;\n",
       "    }\n",
       "\n",
       "    .dataframe thead th {\n",
       "        text-align: right;\n",
       "    }\n",
       "</style>\n",
       "<table border=\"1\" class=\"dataframe\">\n",
       "  <thead>\n",
       "    <tr style=\"text-align: right;\">\n",
       "      <th></th>\n",
       "      <th>company_permalink</th>\n",
       "      <th>funding_round_permalink</th>\n",
       "      <th>funding_round_type</th>\n",
       "      <th>funding_round_code</th>\n",
       "      <th>funded_at</th>\n",
       "      <th>raised_amount_usd</th>\n",
       "      <th>lower_permalink</th>\n",
       "    </tr>\n",
       "  </thead>\n",
       "  <tbody>\n",
       "    <tr>\n",
       "      <td>0</td>\n",
       "      <td>/organization/-fame</td>\n",
       "      <td>/funding-round/9a01d05418af9f794eebff7ace91f638</td>\n",
       "      <td>venture</td>\n",
       "      <td>B</td>\n",
       "      <td>05-01-2015</td>\n",
       "      <td>10000000.000</td>\n",
       "      <td>/organization/-fame</td>\n",
       "    </tr>\n",
       "    <tr>\n",
       "      <td>1</td>\n",
       "      <td>/ORGANIZATION/-QOUNTER</td>\n",
       "      <td>/funding-round/22dacff496eb7acb2b901dec1dfe5633</td>\n",
       "      <td>venture</td>\n",
       "      <td>A</td>\n",
       "      <td>14-10-2014</td>\n",
       "      <td>nan</td>\n",
       "      <td>/organization/-qounter</td>\n",
       "    </tr>\n",
       "    <tr>\n",
       "      <td>2</td>\n",
       "      <td>/organization/-qounter</td>\n",
       "      <td>/funding-round/b44fbb94153f6cdef13083530bb48030</td>\n",
       "      <td>seed</td>\n",
       "      <td>NaN</td>\n",
       "      <td>01-03-2014</td>\n",
       "      <td>700000.000</td>\n",
       "      <td>/organization/-qounter</td>\n",
       "    </tr>\n",
       "    <tr>\n",
       "      <td>3</td>\n",
       "      <td>/ORGANIZATION/-THE-ONE-OF-THEM-INC-</td>\n",
       "      <td>/funding-round/650b8f704416801069bb178a1418776b</td>\n",
       "      <td>venture</td>\n",
       "      <td>B</td>\n",
       "      <td>30-01-2014</td>\n",
       "      <td>3406878.000</td>\n",
       "      <td>/organization/-the-one-of-them-inc-</td>\n",
       "    </tr>\n",
       "    <tr>\n",
       "      <td>4</td>\n",
       "      <td>/organization/0-6-com</td>\n",
       "      <td>/funding-round/5727accaeaa57461bd22a9bdd945382d</td>\n",
       "      <td>venture</td>\n",
       "      <td>A</td>\n",
       "      <td>19-03-2008</td>\n",
       "      <td>2000000.000</td>\n",
       "      <td>/organization/0-6-com</td>\n",
       "    </tr>\n",
       "  </tbody>\n",
       "</table>\n",
       "</div>"
      ],
      "text/plain": [
       "                     company_permalink  \\\n",
       "0                  /organization/-fame   \n",
       "1               /ORGANIZATION/-QOUNTER   \n",
       "2               /organization/-qounter   \n",
       "3  /ORGANIZATION/-THE-ONE-OF-THEM-INC-   \n",
       "4                /organization/0-6-com   \n",
       "\n",
       "                           funding_round_permalink funding_round_type  \\\n",
       "0  /funding-round/9a01d05418af9f794eebff7ace91f638            venture   \n",
       "1  /funding-round/22dacff496eb7acb2b901dec1dfe5633            venture   \n",
       "2  /funding-round/b44fbb94153f6cdef13083530bb48030               seed   \n",
       "3  /funding-round/650b8f704416801069bb178a1418776b            venture   \n",
       "4  /funding-round/5727accaeaa57461bd22a9bdd945382d            venture   \n",
       "\n",
       "  funding_round_code   funded_at  raised_amount_usd  \\\n",
       "0                  B  05-01-2015       10000000.000   \n",
       "1                  A  14-10-2014                nan   \n",
       "2                NaN  01-03-2014         700000.000   \n",
       "3                  B  30-01-2014        3406878.000   \n",
       "4                  A  19-03-2008        2000000.000   \n",
       "\n",
       "                       lower_permalink  \n",
       "0                  /organization/-fame  \n",
       "1               /organization/-qounter  \n",
       "2               /organization/-qounter  \n",
       "3  /organization/-the-one-of-them-inc-  \n",
       "4                /organization/0-6-com  "
      ]
     },
     "execution_count": 159,
     "metadata": {},
     "output_type": "execute_result"
    }
   ],
   "source": [
    "import pandas as pd\n",
    "\n",
    "companies= pd.read_csv(\"C:/Users/hpakki/Desktop/migration/assignment1/companies.txt\",sep='\\t',encoding='ISO-8859-1')\n",
    "\n",
    "rounds2=pd.read_csv(\"C:/Users/hpakki/Desktop/migration/assignment1/rounds2.csv\",encoding='ISO-8859-1')\n",
    "\n",
    "rounds2['lower_permalink'] = list(map(lambda x: x.lower(), rounds2['company_permalink']))\n",
    "companies['lower_permalink'] = list(map(lambda x: x.lower(), companies['permalink']))\n",
    "\n",
    "rounds2.head()"
   ]
  },
  {
   "cell_type": "code",
   "execution_count": 2,
   "metadata": {},
   "outputs": [
    {
     "data": {
      "text/html": [
       "<div>\n",
       "<style scoped>\n",
       "    .dataframe tbody tr th:only-of-type {\n",
       "        vertical-align: middle;\n",
       "    }\n",
       "\n",
       "    .dataframe tbody tr th {\n",
       "        vertical-align: top;\n",
       "    }\n",
       "\n",
       "    .dataframe thead th {\n",
       "        text-align: right;\n",
       "    }\n",
       "</style>\n",
       "<table border=\"1\" class=\"dataframe\">\n",
       "  <thead>\n",
       "    <tr style=\"text-align: right;\">\n",
       "      <th></th>\n",
       "      <th>permalink</th>\n",
       "      <th>name</th>\n",
       "      <th>homepage_url</th>\n",
       "      <th>category_list</th>\n",
       "      <th>status</th>\n",
       "      <th>country_code</th>\n",
       "      <th>state_code</th>\n",
       "      <th>region</th>\n",
       "      <th>city</th>\n",
       "      <th>founded_at</th>\n",
       "      <th>lower_permalink</th>\n",
       "    </tr>\n",
       "  </thead>\n",
       "  <tbody>\n",
       "    <tr>\n",
       "      <td>0</td>\n",
       "      <td>/Organization/-Fame</td>\n",
       "      <td>#fame</td>\n",
       "      <td>http://livfame.com</td>\n",
       "      <td>Media</td>\n",
       "      <td>operating</td>\n",
       "      <td>IND</td>\n",
       "      <td>16</td>\n",
       "      <td>Mumbai</td>\n",
       "      <td>Mumbai</td>\n",
       "      <td>NaN</td>\n",
       "      <td>/organization/-fame</td>\n",
       "    </tr>\n",
       "    <tr>\n",
       "      <td>1</td>\n",
       "      <td>/Organization/-Qounter</td>\n",
       "      <td>:Qounter</td>\n",
       "      <td>http://www.qounter.com</td>\n",
       "      <td>Application Platforms|Real Time|Social Network...</td>\n",
       "      <td>operating</td>\n",
       "      <td>USA</td>\n",
       "      <td>DE</td>\n",
       "      <td>DE - Other</td>\n",
       "      <td>Delaware City</td>\n",
       "      <td>04-09-2014</td>\n",
       "      <td>/organization/-qounter</td>\n",
       "    </tr>\n",
       "    <tr>\n",
       "      <td>2</td>\n",
       "      <td>/Organization/-The-One-Of-Them-Inc-</td>\n",
       "      <td>(THE) ONE of THEM,Inc.</td>\n",
       "      <td>http://oneofthem.jp</td>\n",
       "      <td>Apps|Games|Mobile</td>\n",
       "      <td>operating</td>\n",
       "      <td>NaN</td>\n",
       "      <td>NaN</td>\n",
       "      <td>NaN</td>\n",
       "      <td>NaN</td>\n",
       "      <td>NaN</td>\n",
       "      <td>/organization/-the-one-of-them-inc-</td>\n",
       "    </tr>\n",
       "    <tr>\n",
       "      <td>3</td>\n",
       "      <td>/Organization/0-6-Com</td>\n",
       "      <td>0-6.com</td>\n",
       "      <td>http://www.0-6.com</td>\n",
       "      <td>Curated Web</td>\n",
       "      <td>operating</td>\n",
       "      <td>CHN</td>\n",
       "      <td>22</td>\n",
       "      <td>Beijing</td>\n",
       "      <td>Beijing</td>\n",
       "      <td>01-01-2007</td>\n",
       "      <td>/organization/0-6-com</td>\n",
       "    </tr>\n",
       "    <tr>\n",
       "      <td>4</td>\n",
       "      <td>/Organization/004-Technologies</td>\n",
       "      <td>004 Technologies</td>\n",
       "      <td>http://004gmbh.de/en/004-interact</td>\n",
       "      <td>Software</td>\n",
       "      <td>operating</td>\n",
       "      <td>USA</td>\n",
       "      <td>IL</td>\n",
       "      <td>Springfield, Illinois</td>\n",
       "      <td>Champaign</td>\n",
       "      <td>01-01-2010</td>\n",
       "      <td>/organization/004-technologies</td>\n",
       "    </tr>\n",
       "  </tbody>\n",
       "</table>\n",
       "</div>"
      ],
      "text/plain": [
       "                             permalink                    name  \\\n",
       "0                  /Organization/-Fame                   #fame   \n",
       "1               /Organization/-Qounter                :Qounter   \n",
       "2  /Organization/-The-One-Of-Them-Inc-  (THE) ONE of THEM,Inc.   \n",
       "3                /Organization/0-6-Com                 0-6.com   \n",
       "4       /Organization/004-Technologies        004 Technologies   \n",
       "\n",
       "                        homepage_url  \\\n",
       "0                 http://livfame.com   \n",
       "1             http://www.qounter.com   \n",
       "2                http://oneofthem.jp   \n",
       "3                 http://www.0-6.com   \n",
       "4  http://004gmbh.de/en/004-interact   \n",
       "\n",
       "                                       category_list     status country_code  \\\n",
       "0                                              Media  operating          IND   \n",
       "1  Application Platforms|Real Time|Social Network...  operating          USA   \n",
       "2                                  Apps|Games|Mobile  operating          NaN   \n",
       "3                                        Curated Web  operating          CHN   \n",
       "4                                           Software  operating          USA   \n",
       "\n",
       "  state_code                 region           city  founded_at  \\\n",
       "0         16                 Mumbai         Mumbai         NaN   \n",
       "1         DE             DE - Other  Delaware City  04-09-2014   \n",
       "2        NaN                    NaN            NaN         NaN   \n",
       "3         22                Beijing        Beijing  01-01-2007   \n",
       "4         IL  Springfield, Illinois      Champaign  01-01-2010   \n",
       "\n",
       "                       lower_permalink  \n",
       "0                  /organization/-fame  \n",
       "1               /organization/-qounter  \n",
       "2  /organization/-the-one-of-them-inc-  \n",
       "3                /organization/0-6-com  \n",
       "4       /organization/004-technologies  "
      ]
     },
     "execution_count": 2,
     "metadata": {},
     "output_type": "execute_result"
    }
   ],
   "source": [
    "companies.head()"
   ]
  },
  {
   "cell_type": "code",
   "execution_count": 160,
   "metadata": {},
   "outputs": [],
   "source": [
    "master_frame=pd.merge(companies,rounds2, left_on='lower_permalink', right_on='lower_permalink', how='outer')"
   ]
  },
  {
   "cell_type": "code",
   "execution_count": 161,
   "metadata": {},
   "outputs": [
    {
     "data": {
      "text/html": [
       "<div>\n",
       "<style scoped>\n",
       "    .dataframe tbody tr th:only-of-type {\n",
       "        vertical-align: middle;\n",
       "    }\n",
       "\n",
       "    .dataframe tbody tr th {\n",
       "        vertical-align: top;\n",
       "    }\n",
       "\n",
       "    .dataframe thead th {\n",
       "        text-align: right;\n",
       "    }\n",
       "</style>\n",
       "<table border=\"1\" class=\"dataframe\">\n",
       "  <thead>\n",
       "    <tr style=\"text-align: right;\">\n",
       "      <th></th>\n",
       "      <th>permalink</th>\n",
       "      <th>name</th>\n",
       "      <th>homepage_url</th>\n",
       "      <th>category_list</th>\n",
       "      <th>status</th>\n",
       "      <th>country_code</th>\n",
       "      <th>state_code</th>\n",
       "      <th>region</th>\n",
       "      <th>city</th>\n",
       "      <th>founded_at</th>\n",
       "      <th>lower_permalink</th>\n",
       "      <th>company_permalink</th>\n",
       "      <th>funding_round_permalink</th>\n",
       "      <th>funding_round_type</th>\n",
       "      <th>funding_round_code</th>\n",
       "      <th>funded_at</th>\n",
       "      <th>raised_amount_usd</th>\n",
       "    </tr>\n",
       "  </thead>\n",
       "  <tbody>\n",
       "    <tr>\n",
       "      <td>0</td>\n",
       "      <td>/Organization/-Fame</td>\n",
       "      <td>#fame</td>\n",
       "      <td>http://livfame.com</td>\n",
       "      <td>Media</td>\n",
       "      <td>operating</td>\n",
       "      <td>IND</td>\n",
       "      <td>16</td>\n",
       "      <td>Mumbai</td>\n",
       "      <td>Mumbai</td>\n",
       "      <td>NaN</td>\n",
       "      <td>/organization/-fame</td>\n",
       "      <td>/organization/-fame</td>\n",
       "      <td>/funding-round/9a01d05418af9f794eebff7ace91f638</td>\n",
       "      <td>venture</td>\n",
       "      <td>B</td>\n",
       "      <td>05-01-2015</td>\n",
       "      <td>10000000.000</td>\n",
       "    </tr>\n",
       "    <tr>\n",
       "      <td>1</td>\n",
       "      <td>/Organization/-Qounter</td>\n",
       "      <td>:Qounter</td>\n",
       "      <td>http://www.qounter.com</td>\n",
       "      <td>Application Platforms|Real Time|Social Network...</td>\n",
       "      <td>operating</td>\n",
       "      <td>USA</td>\n",
       "      <td>DE</td>\n",
       "      <td>DE - Other</td>\n",
       "      <td>Delaware City</td>\n",
       "      <td>04-09-2014</td>\n",
       "      <td>/organization/-qounter</td>\n",
       "      <td>/ORGANIZATION/-QOUNTER</td>\n",
       "      <td>/funding-round/22dacff496eb7acb2b901dec1dfe5633</td>\n",
       "      <td>venture</td>\n",
       "      <td>A</td>\n",
       "      <td>14-10-2014</td>\n",
       "      <td>nan</td>\n",
       "    </tr>\n",
       "    <tr>\n",
       "      <td>2</td>\n",
       "      <td>/Organization/-Qounter</td>\n",
       "      <td>:Qounter</td>\n",
       "      <td>http://www.qounter.com</td>\n",
       "      <td>Application Platforms|Real Time|Social Network...</td>\n",
       "      <td>operating</td>\n",
       "      <td>USA</td>\n",
       "      <td>DE</td>\n",
       "      <td>DE - Other</td>\n",
       "      <td>Delaware City</td>\n",
       "      <td>04-09-2014</td>\n",
       "      <td>/organization/-qounter</td>\n",
       "      <td>/organization/-qounter</td>\n",
       "      <td>/funding-round/b44fbb94153f6cdef13083530bb48030</td>\n",
       "      <td>seed</td>\n",
       "      <td>NaN</td>\n",
       "      <td>01-03-2014</td>\n",
       "      <td>700000.000</td>\n",
       "    </tr>\n",
       "    <tr>\n",
       "      <td>3</td>\n",
       "      <td>/Organization/-The-One-Of-Them-Inc-</td>\n",
       "      <td>(THE) ONE of THEM,Inc.</td>\n",
       "      <td>http://oneofthem.jp</td>\n",
       "      <td>Apps|Games|Mobile</td>\n",
       "      <td>operating</td>\n",
       "      <td>NaN</td>\n",
       "      <td>NaN</td>\n",
       "      <td>NaN</td>\n",
       "      <td>NaN</td>\n",
       "      <td>NaN</td>\n",
       "      <td>/organization/-the-one-of-them-inc-</td>\n",
       "      <td>/ORGANIZATION/-THE-ONE-OF-THEM-INC-</td>\n",
       "      <td>/funding-round/650b8f704416801069bb178a1418776b</td>\n",
       "      <td>venture</td>\n",
       "      <td>B</td>\n",
       "      <td>30-01-2014</td>\n",
       "      <td>3406878.000</td>\n",
       "    </tr>\n",
       "    <tr>\n",
       "      <td>4</td>\n",
       "      <td>/Organization/0-6-Com</td>\n",
       "      <td>0-6.com</td>\n",
       "      <td>http://www.0-6.com</td>\n",
       "      <td>Curated Web</td>\n",
       "      <td>operating</td>\n",
       "      <td>CHN</td>\n",
       "      <td>22</td>\n",
       "      <td>Beijing</td>\n",
       "      <td>Beijing</td>\n",
       "      <td>01-01-2007</td>\n",
       "      <td>/organization/0-6-com</td>\n",
       "      <td>/organization/0-6-com</td>\n",
       "      <td>/funding-round/5727accaeaa57461bd22a9bdd945382d</td>\n",
       "      <td>venture</td>\n",
       "      <td>A</td>\n",
       "      <td>19-03-2008</td>\n",
       "      <td>2000000.000</td>\n",
       "    </tr>\n",
       "  </tbody>\n",
       "</table>\n",
       "</div>"
      ],
      "text/plain": [
       "                             permalink                    name  \\\n",
       "0                  /Organization/-Fame                   #fame   \n",
       "1               /Organization/-Qounter                :Qounter   \n",
       "2               /Organization/-Qounter                :Qounter   \n",
       "3  /Organization/-The-One-Of-Them-Inc-  (THE) ONE of THEM,Inc.   \n",
       "4                /Organization/0-6-Com                 0-6.com   \n",
       "\n",
       "             homepage_url                                      category_list  \\\n",
       "0      http://livfame.com                                              Media   \n",
       "1  http://www.qounter.com  Application Platforms|Real Time|Social Network...   \n",
       "2  http://www.qounter.com  Application Platforms|Real Time|Social Network...   \n",
       "3     http://oneofthem.jp                                  Apps|Games|Mobile   \n",
       "4      http://www.0-6.com                                        Curated Web   \n",
       "\n",
       "      status country_code state_code      region           city  founded_at  \\\n",
       "0  operating          IND         16      Mumbai         Mumbai         NaN   \n",
       "1  operating          USA         DE  DE - Other  Delaware City  04-09-2014   \n",
       "2  operating          USA         DE  DE - Other  Delaware City  04-09-2014   \n",
       "3  operating          NaN        NaN         NaN            NaN         NaN   \n",
       "4  operating          CHN         22     Beijing        Beijing  01-01-2007   \n",
       "\n",
       "                       lower_permalink                    company_permalink  \\\n",
       "0                  /organization/-fame                  /organization/-fame   \n",
       "1               /organization/-qounter               /ORGANIZATION/-QOUNTER   \n",
       "2               /organization/-qounter               /organization/-qounter   \n",
       "3  /organization/-the-one-of-them-inc-  /ORGANIZATION/-THE-ONE-OF-THEM-INC-   \n",
       "4                /organization/0-6-com                /organization/0-6-com   \n",
       "\n",
       "                           funding_round_permalink funding_round_type  \\\n",
       "0  /funding-round/9a01d05418af9f794eebff7ace91f638            venture   \n",
       "1  /funding-round/22dacff496eb7acb2b901dec1dfe5633            venture   \n",
       "2  /funding-round/b44fbb94153f6cdef13083530bb48030               seed   \n",
       "3  /funding-round/650b8f704416801069bb178a1418776b            venture   \n",
       "4  /funding-round/5727accaeaa57461bd22a9bdd945382d            venture   \n",
       "\n",
       "  funding_round_code   funded_at  raised_amount_usd  \n",
       "0                  B  05-01-2015       10000000.000  \n",
       "1                  A  14-10-2014                nan  \n",
       "2                NaN  01-03-2014         700000.000  \n",
       "3                  B  30-01-2014        3406878.000  \n",
       "4                  A  19-03-2008        2000000.000  "
      ]
     },
     "execution_count": 161,
     "metadata": {},
     "output_type": "execute_result"
    }
   ],
   "source": [
    "master_frame.head()"
   ]
  },
  {
   "cell_type": "code",
   "execution_count": 162,
   "metadata": {},
   "outputs": [],
   "source": [
    "master_frame=master_frame.dropna(subset=['lower_permalink'])"
   ]
  },
  {
   "cell_type": "code",
   "execution_count": 163,
   "metadata": {},
   "outputs": [
    {
     "data": {
      "text/plain": [
       "66370"
      ]
     },
     "execution_count": 163,
     "metadata": {},
     "output_type": "execute_result"
    }
   ],
   "source": [
    "rounds2['lower_permalink'].nunique() #Number of unique companies in round2"
   ]
  },
  {
   "cell_type": "code",
   "execution_count": 164,
   "metadata": {},
   "outputs": [
    {
     "data": {
      "text/plain": [
       "66368"
      ]
     },
     "execution_count": 164,
     "metadata": {},
     "output_type": "execute_result"
    }
   ],
   "source": [
    "companies['lower_permalink'].nunique() #number of unique companies in companies"
   ]
  },
  {
   "cell_type": "code",
   "execution_count": 165,
   "metadata": {},
   "outputs": [
    {
     "data": {
      "text/plain": [
       "permalink                  114947\n",
       "name                       114946\n",
       "homepage_url               108813\n",
       "category_list              111538\n",
       "status                     114947\n",
       "country_code               106271\n",
       "state_code                 104003\n",
       "region                     104782\n",
       "city                       104785\n",
       "founded_at                  94426\n",
       "lower_permalink            114954\n",
       "company_permalink          114949\n",
       "funding_round_permalink    114949\n",
       "funding_round_type         114949\n",
       "funding_round_code          31140\n",
       "funded_at                  114949\n",
       "raised_amount_usd           94959\n",
       "dtype: int64"
      ]
     },
     "execution_count": 165,
     "metadata": {},
     "output_type": "execute_result"
    }
   ],
   "source": [
    "master_frame.count() #the max number of records below is the number of observation in master frame after removing NULLs"
   ]
  },
  {
   "cell_type": "code",
   "execution_count": 166,
   "metadata": {},
   "outputs": [
    {
     "name": "stdout",
     "output_type": "stream",
     "text": [
      "       funding_round_type  raised_amount_usd\n",
      "0                 venture       10000000.000\n",
      "1                 venture                nan\n",
      "2                    seed         700000.000\n",
      "3                 venture        3406878.000\n",
      "4                 venture        2000000.000\n",
      "...                   ...                ...\n",
      "114949               seed                nan\n",
      "114950               seed        1625585.000\n",
      "114951               seed                nan\n",
      "114952            venture                nan\n",
      "114953               seed                nan\n",
      "\n",
      "[114954 rows x 2 columns]\n"
     ]
    }
   ],
   "source": [
    "print(master_frame[['funding_round_type','raised_amount_usd']])"
   ]
  },
  {
   "cell_type": "code",
   "execution_count": 167,
   "metadata": {},
   "outputs": [],
   "source": [
    "group1=master_frame.groupby('funding_round_type') #Groupby Funding Type"
   ]
  },
  {
   "cell_type": "code",
   "execution_count": 168,
   "metadata": {},
   "outputs": [
    {
     "name": "stdout",
     "output_type": "stream",
     "text": [
      "funding_round_type\n",
      "angel                      958694.470\n",
      "convertible_note          1453438.543\n",
      "debt_financing           17043526.023\n",
      "equity_crowdfunding        538368.211\n",
      "grant                     4300576.339\n",
      "non_equity_assistance      411203.055\n",
      "post_ipo_debt           168704571.822\n",
      "post_ipo_equity          82182493.871\n",
      "private_equity           73308593.029\n",
      "product_crowdfunding      1363131.070\n",
      "secondary_market         79649630.100\n",
      "seed                       719817.997\n",
      "undisclosed              19242370.226\n",
      "venture                  11748949.129\n",
      "Name: raised_amount_usd, dtype: float64\n"
     ]
    }
   ],
   "source": [
    "pd.options.display.float_format = '{:.3f}'.format\n",
    "print(group1['raised_amount_usd'].mean()) #Average Funding amount by Funding Type"
   ]
  },
  {
   "cell_type": "markdown",
   "metadata": {},
   "source": [
    "Top9 Countries based on investments"
   ]
  },
  {
   "cell_type": "code",
   "execution_count": 149,
   "metadata": {},
   "outputs": [
    {
     "name": "stderr",
     "output_type": "stream",
     "text": [
      "C:\\Users\\hpakki\\AppData\\Local\\Continuum\\anaconda3\\lib\\site-packages\\ipykernel_launcher.py:3: SettingWithCopyWarning: \n",
      "A value is trying to be set on a copy of a slice from a DataFrame\n",
      "\n",
      "See the caveats in the documentation: http://pandas.pydata.org/pandas-docs/stable/user_guide/indexing.html#returning-a-view-versus-a-copy\n",
      "  This is separate from the ipykernel package so we can avoid doing imports until\n",
      "C:\\Users\\hpakki\\AppData\\Local\\Continuum\\anaconda3\\lib\\site-packages\\ipykernel_launcher.py:5: SettingWithCopyWarning: \n",
      "A value is trying to be set on a copy of a slice from a DataFrame.\n",
      "Try using .loc[row_indexer,col_indexer] = value instead\n",
      "\n",
      "See the caveats in the documentation: http://pandas.pydata.org/pandas-docs/stable/user_guide/indexing.html#returning-a-view-versus-a-copy\n",
      "  \"\"\"\n"
     ]
    },
    {
     "data": {
      "text/html": [
       "<div>\n",
       "<style scoped>\n",
       "    .dataframe tbody tr th:only-of-type {\n",
       "        vertical-align: middle;\n",
       "    }\n",
       "\n",
       "    .dataframe tbody tr th {\n",
       "        vertical-align: top;\n",
       "    }\n",
       "\n",
       "    .dataframe thead th {\n",
       "        text-align: right;\n",
       "    }\n",
       "</style>\n",
       "<table border=\"1\" class=\"dataframe\">\n",
       "  <thead>\n",
       "    <tr style=\"text-align: right;\">\n",
       "      <th></th>\n",
       "      <th>country_code</th>\n",
       "      <th>raised_amount_usd</th>\n",
       "    </tr>\n",
       "  </thead>\n",
       "  <tbody>\n",
       "    <tr>\n",
       "      <td>130</td>\n",
       "      <td>USA</td>\n",
       "      <td>669482123821.000</td>\n",
       "    </tr>\n",
       "    <tr>\n",
       "      <td>23</td>\n",
       "      <td>CHN</td>\n",
       "      <td>75703565796.000</td>\n",
       "    </tr>\n",
       "    <tr>\n",
       "      <td>42</td>\n",
       "      <td>GBR</td>\n",
       "      <td>32767048060.000</td>\n",
       "    </tr>\n",
       "    <tr>\n",
       "      <td>55</td>\n",
       "      <td>IND</td>\n",
       "      <td>27686336560.000</td>\n",
       "    </tr>\n",
       "    <tr>\n",
       "      <td>20</td>\n",
       "      <td>CAN</td>\n",
       "      <td>18424675109.000</td>\n",
       "    </tr>\n",
       "    <tr>\n",
       "      <td>108</td>\n",
       "      <td>RUS</td>\n",
       "      <td>11279120120.000</td>\n",
       "    </tr>\n",
       "    <tr>\n",
       "      <td>31</td>\n",
       "      <td>DEU</td>\n",
       "      <td>10017763740.000</td>\n",
       "    </tr>\n",
       "    <tr>\n",
       "      <td>59</td>\n",
       "      <td>ISR</td>\n",
       "      <td>9713884650.000</td>\n",
       "    </tr>\n",
       "    <tr>\n",
       "      <td>41</td>\n",
       "      <td>FRA</td>\n",
       "      <td>9059770757.000</td>\n",
       "    </tr>\n",
       "  </tbody>\n",
       "</table>\n",
       "</div>"
      ],
      "text/plain": [
       "    country_code  raised_amount_usd\n",
       "130          USA   669482123821.000\n",
       "23           CHN    75703565796.000\n",
       "42           GBR    32767048060.000\n",
       "55           IND    27686336560.000\n",
       "20           CAN    18424675109.000\n",
       "108          RUS    11279120120.000\n",
       "31           DEU    10017763740.000\n",
       "59           ISR     9713884650.000\n",
       "41           FRA     9059770757.000"
      ]
     },
     "execution_count": 149,
     "metadata": {},
     "output_type": "execute_result"
    }
   ],
   "source": [
    "countries=master_frame[['country_code','raised_amount_usd']]\n",
    "\n",
    "countries.dropna(subset=['country_code'],inplace=True)\n",
    "\n",
    "countries['raised_amount_usd']=countries['raised_amount_usd'].astype('float64')\n",
    "\n",
    "\n",
    "top=countries.groupby(['country_code'],as_index=False).sum()\n",
    "\n",
    "top9=top.sort_values(['raised_amount_usd'], ascending =False).head(9) \n",
    "top9 #top 9 countries based on investment amount"
   ]
  },
  {
   "cell_type": "code",
   "execution_count": 172,
   "metadata": {},
   "outputs": [],
   "source": [
    "master_frame['category_list']=master_frame['category_list'].astype('str')\n",
    "master_frame['category_list']=list(map(lambda x: x.lower(), master_frame['category_list']))\n",
    "\n",
    "companies['category_list']=companies['category_list'].astype('str')"
   ]
  },
  {
   "cell_type": "code",
   "execution_count": 151,
   "metadata": {},
   "outputs": [],
   "source": [
    "mapping=pd.read_csv(\"C:/Users/hpakki/Desktop/migration/assignment1/mapping.csv\",encoding='ISO-8859-1')"
   ]
  },
  {
   "cell_type": "code",
   "execution_count": 79,
   "metadata": {},
   "outputs": [
    {
     "data": {
      "text/html": [
       "<div>\n",
       "<style scoped>\n",
       "    .dataframe tbody tr th:only-of-type {\n",
       "        vertical-align: middle;\n",
       "    }\n",
       "\n",
       "    .dataframe tbody tr th {\n",
       "        vertical-align: top;\n",
       "    }\n",
       "\n",
       "    .dataframe thead th {\n",
       "        text-align: right;\n",
       "    }\n",
       "</style>\n",
       "<table border=\"1\" class=\"dataframe\">\n",
       "  <thead>\n",
       "    <tr style=\"text-align: right;\">\n",
       "      <th></th>\n",
       "      <th>category_list</th>\n",
       "      <th>Automotive &amp; Sports</th>\n",
       "      <th>Blanks</th>\n",
       "      <th>Cleantech / Semiconductors</th>\n",
       "      <th>Entertainment</th>\n",
       "      <th>Health</th>\n",
       "      <th>Manufacturing</th>\n",
       "      <th>News, Search and Messaging</th>\n",
       "      <th>Others</th>\n",
       "      <th>Social, Finance, Analytics, Advertising</th>\n",
       "    </tr>\n",
       "  </thead>\n",
       "  <tbody>\n",
       "    <tr>\n",
       "      <td>0</td>\n",
       "      <td>NaN</td>\n",
       "      <td>0</td>\n",
       "      <td>1</td>\n",
       "      <td>0</td>\n",
       "      <td>0</td>\n",
       "      <td>0</td>\n",
       "      <td>0</td>\n",
       "      <td>0</td>\n",
       "      <td>0</td>\n",
       "      <td>0</td>\n",
       "    </tr>\n",
       "    <tr>\n",
       "      <td>1</td>\n",
       "      <td>3D</td>\n",
       "      <td>0</td>\n",
       "      <td>0</td>\n",
       "      <td>0</td>\n",
       "      <td>0</td>\n",
       "      <td>0</td>\n",
       "      <td>1</td>\n",
       "      <td>0</td>\n",
       "      <td>0</td>\n",
       "      <td>0</td>\n",
       "    </tr>\n",
       "    <tr>\n",
       "      <td>2</td>\n",
       "      <td>3D Printing</td>\n",
       "      <td>0</td>\n",
       "      <td>0</td>\n",
       "      <td>0</td>\n",
       "      <td>0</td>\n",
       "      <td>0</td>\n",
       "      <td>1</td>\n",
       "      <td>0</td>\n",
       "      <td>0</td>\n",
       "      <td>0</td>\n",
       "    </tr>\n",
       "    <tr>\n",
       "      <td>3</td>\n",
       "      <td>3D Technology</td>\n",
       "      <td>0</td>\n",
       "      <td>0</td>\n",
       "      <td>0</td>\n",
       "      <td>0</td>\n",
       "      <td>0</td>\n",
       "      <td>1</td>\n",
       "      <td>0</td>\n",
       "      <td>0</td>\n",
       "      <td>0</td>\n",
       "    </tr>\n",
       "    <tr>\n",
       "      <td>4</td>\n",
       "      <td>Accounting</td>\n",
       "      <td>0</td>\n",
       "      <td>0</td>\n",
       "      <td>0</td>\n",
       "      <td>0</td>\n",
       "      <td>0</td>\n",
       "      <td>0</td>\n",
       "      <td>0</td>\n",
       "      <td>0</td>\n",
       "      <td>1</td>\n",
       "    </tr>\n",
       "  </tbody>\n",
       "</table>\n",
       "</div>"
      ],
      "text/plain": [
       "   category_list  Automotive & Sports  Blanks  Cleantech / Semiconductors  \\\n",
       "0            NaN                    0       1                           0   \n",
       "1             3D                    0       0                           0   \n",
       "2    3D Printing                    0       0                           0   \n",
       "3  3D Technology                    0       0                           0   \n",
       "4     Accounting                    0       0                           0   \n",
       "\n",
       "   Entertainment  Health  Manufacturing  News, Search and Messaging  Others  \\\n",
       "0              0       0              0                           0       0   \n",
       "1              0       0              1                           0       0   \n",
       "2              0       0              1                           0       0   \n",
       "3              0       0              1                           0       0   \n",
       "4              0       0              0                           0       0   \n",
       "\n",
       "   Social, Finance, Analytics, Advertising  \n",
       "0                                        0  \n",
       "1                                        0  \n",
       "2                                        0  \n",
       "3                                        0  \n",
       "4                                        1  "
      ]
     },
     "execution_count": 79,
     "metadata": {},
     "output_type": "execute_result"
    }
   ],
   "source": [
    "mapping.head()"
   ]
  },
  {
   "cell_type": "code",
   "execution_count": 173,
   "metadata": {},
   "outputs": [],
   "source": [
    "mapping['category_list'] =mapping['category_list'].astype(str)\n",
    "mapping = mapping.apply(lambda x: x.astype(str).str.lower())"
   ]
  },
  {
   "cell_type": "code",
   "execution_count": 174,
   "metadata": {},
   "outputs": [],
   "source": [
    "mt = pd.merge(master_frame,mapping,how = 'right', left_on=['category_list'],right_on=['category_list'])"
   ]
  },
  {
   "cell_type": "code",
   "execution_count": 175,
   "metadata": {},
   "outputs": [],
   "source": [
    "mt['Automotive & Sports'] =mt['Automotive & Sports'].astype(int)\n",
    "mt['Blanks'] =mt['Blanks'].astype(int)\n",
    "mt['Cleantech / Semiconductors'] =mt['Cleantech / Semiconductors'].astype(int)\n",
    "mt['Entertainment'] =mt['Entertainment'].astype(int)\n",
    "mt['Health'] =mt['Health'].astype(int)\n",
    "mt['Others'] =mt['Others'].astype(int)\n",
    "mt['Manufacturing'] =mt['Manufacturing'].astype(int)\n",
    "mt['News, Search and Messaging'] =mt['News, Search and Messaging'].astype(int)\n",
    "mt['Social, Finance, Analytics, Advertising'] =mt['Social, Finance, Analytics, Advertising'].astype(int)\n",
    "mt['totalscore'] = mt['Automotive & Sports']+mt['Others']+mt['Blanks']+mt['Cleantech / Semiconductors']+mt['Entertainment']+mt['Health']+mt['Manufacturing']+mt['News, Search and Messaging']+mt['Social, Finance, Analytics, Advertising']"
   ]
  },
  {
   "cell_type": "code",
   "execution_count": 176,
   "metadata": {},
   "outputs": [
    {
     "data": {
      "text/html": [
       "<div>\n",
       "<style scoped>\n",
       "    .dataframe tbody tr th:only-of-type {\n",
       "        vertical-align: middle;\n",
       "    }\n",
       "\n",
       "    .dataframe tbody tr th {\n",
       "        vertical-align: top;\n",
       "    }\n",
       "\n",
       "    .dataframe thead th {\n",
       "        text-align: right;\n",
       "    }\n",
       "</style>\n",
       "<table border=\"1\" class=\"dataframe\">\n",
       "  <thead>\n",
       "    <tr style=\"text-align: right;\">\n",
       "      <th></th>\n",
       "      <th>permalink</th>\n",
       "      <th>name</th>\n",
       "      <th>homepage_url</th>\n",
       "      <th>category_list</th>\n",
       "      <th>status</th>\n",
       "      <th>country_code</th>\n",
       "      <th>state_code</th>\n",
       "      <th>region</th>\n",
       "      <th>city</th>\n",
       "      <th>founded_at</th>\n",
       "      <th>...</th>\n",
       "      <th>Automotive &amp; Sports</th>\n",
       "      <th>Blanks</th>\n",
       "      <th>Cleantech / Semiconductors</th>\n",
       "      <th>Entertainment</th>\n",
       "      <th>Health</th>\n",
       "      <th>Manufacturing</th>\n",
       "      <th>News, Search and Messaging</th>\n",
       "      <th>Others</th>\n",
       "      <th>Social, Finance, Analytics, Advertising</th>\n",
       "      <th>totalscore</th>\n",
       "    </tr>\n",
       "  </thead>\n",
       "  <tbody>\n",
       "    <tr>\n",
       "      <td>0</td>\n",
       "      <td>/Organization/-Fame</td>\n",
       "      <td>#fame</td>\n",
       "      <td>http://livfame.com</td>\n",
       "      <td>media</td>\n",
       "      <td>operating</td>\n",
       "      <td>IND</td>\n",
       "      <td>16</td>\n",
       "      <td>Mumbai</td>\n",
       "      <td>Mumbai</td>\n",
       "      <td>NaN</td>\n",
       "      <td>...</td>\n",
       "      <td>0</td>\n",
       "      <td>0</td>\n",
       "      <td>0</td>\n",
       "      <td>1</td>\n",
       "      <td>0</td>\n",
       "      <td>0</td>\n",
       "      <td>0</td>\n",
       "      <td>0</td>\n",
       "      <td>0</td>\n",
       "      <td>1</td>\n",
       "    </tr>\n",
       "    <tr>\n",
       "      <td>1</td>\n",
       "      <td>/Organization/All-Def-Digital</td>\n",
       "      <td>All Def Digital</td>\n",
       "      <td>http://alldefdigital.com</td>\n",
       "      <td>media</td>\n",
       "      <td>operating</td>\n",
       "      <td>USA</td>\n",
       "      <td>CA</td>\n",
       "      <td>Los Angeles</td>\n",
       "      <td>Los Angeles</td>\n",
       "      <td>NaN</td>\n",
       "      <td>...</td>\n",
       "      <td>0</td>\n",
       "      <td>0</td>\n",
       "      <td>0</td>\n",
       "      <td>1</td>\n",
       "      <td>0</td>\n",
       "      <td>0</td>\n",
       "      <td>0</td>\n",
       "      <td>0</td>\n",
       "      <td>0</td>\n",
       "      <td>1</td>\n",
       "    </tr>\n",
       "    <tr>\n",
       "      <td>2</td>\n",
       "      <td>/Organization/Anthill-Magazine</td>\n",
       "      <td>Anthill Magazine</td>\n",
       "      <td>http://anthillonline.com/</td>\n",
       "      <td>media</td>\n",
       "      <td>operating</td>\n",
       "      <td>AUS</td>\n",
       "      <td>7</td>\n",
       "      <td>Melbourne</td>\n",
       "      <td>Melbourne</td>\n",
       "      <td>23-05-2009</td>\n",
       "      <td>...</td>\n",
       "      <td>0</td>\n",
       "      <td>0</td>\n",
       "      <td>0</td>\n",
       "      <td>1</td>\n",
       "      <td>0</td>\n",
       "      <td>0</td>\n",
       "      <td>0</td>\n",
       "      <td>0</td>\n",
       "      <td>0</td>\n",
       "      <td>1</td>\n",
       "    </tr>\n",
       "    <tr>\n",
       "      <td>3</td>\n",
       "      <td>/Organization/Attractive-Black-Singles-Llc</td>\n",
       "      <td>Attractive Black Singles LLC</td>\n",
       "      <td>NaN</td>\n",
       "      <td>media</td>\n",
       "      <td>operating</td>\n",
       "      <td>USA</td>\n",
       "      <td>NC</td>\n",
       "      <td>Greensboro</td>\n",
       "      <td>Greensboro</td>\n",
       "      <td>12-04-2012</td>\n",
       "      <td>...</td>\n",
       "      <td>0</td>\n",
       "      <td>0</td>\n",
       "      <td>0</td>\n",
       "      <td>1</td>\n",
       "      <td>0</td>\n",
       "      <td>0</td>\n",
       "      <td>0</td>\n",
       "      <td>0</td>\n",
       "      <td>0</td>\n",
       "      <td>1</td>\n",
       "    </tr>\n",
       "    <tr>\n",
       "      <td>4</td>\n",
       "      <td>/Organization/Basel-Switzerland</td>\n",
       "      <td>The Speedel Group</td>\n",
       "      <td>http://www.speedelgroup.com/</td>\n",
       "      <td>media</td>\n",
       "      <td>closed</td>\n",
       "      <td>CHE</td>\n",
       "      <td>4</td>\n",
       "      <td>Basel</td>\n",
       "      <td>Basel</td>\n",
       "      <td>NaN</td>\n",
       "      <td>...</td>\n",
       "      <td>0</td>\n",
       "      <td>0</td>\n",
       "      <td>0</td>\n",
       "      <td>1</td>\n",
       "      <td>0</td>\n",
       "      <td>0</td>\n",
       "      <td>0</td>\n",
       "      <td>0</td>\n",
       "      <td>0</td>\n",
       "      <td>1</td>\n",
       "    </tr>\n",
       "  </tbody>\n",
       "</table>\n",
       "<p>5 rows × 27 columns</p>\n",
       "</div>"
      ],
      "text/plain": [
       "                                    permalink                          name  \\\n",
       "0                         /Organization/-Fame                         #fame   \n",
       "1               /Organization/All-Def-Digital               All Def Digital   \n",
       "2              /Organization/Anthill-Magazine              Anthill Magazine   \n",
       "3  /Organization/Attractive-Black-Singles-Llc  Attractive Black Singles LLC   \n",
       "4             /Organization/Basel-Switzerland             The Speedel Group   \n",
       "\n",
       "                   homepage_url category_list     status country_code  \\\n",
       "0            http://livfame.com         media  operating          IND   \n",
       "1      http://alldefdigital.com         media  operating          USA   \n",
       "2     http://anthillonline.com/         media  operating          AUS   \n",
       "3                           NaN         media  operating          USA   \n",
       "4  http://www.speedelgroup.com/         media     closed          CHE   \n",
       "\n",
       "  state_code       region         city  founded_at  ... Automotive & Sports  \\\n",
       "0         16       Mumbai       Mumbai         NaN  ...                   0   \n",
       "1         CA  Los Angeles  Los Angeles         NaN  ...                   0   \n",
       "2          7    Melbourne    Melbourne  23-05-2009  ...                   0   \n",
       "3         NC   Greensboro   Greensboro  12-04-2012  ...                   0   \n",
       "4          4        Basel        Basel         NaN  ...                   0   \n",
       "\n",
       "  Blanks Cleantech / Semiconductors Entertainment Health Manufacturing  \\\n",
       "0      0                          0             1      0             0   \n",
       "1      0                          0             1      0             0   \n",
       "2      0                          0             1      0             0   \n",
       "3      0                          0             1      0             0   \n",
       "4      0                          0             1      0             0   \n",
       "\n",
       "   News, Search and Messaging  Others  \\\n",
       "0                           0       0   \n",
       "1                           0       0   \n",
       "2                           0       0   \n",
       "3                           0       0   \n",
       "4                           0       0   \n",
       "\n",
       "   Social, Finance, Analytics, Advertising  totalscore  \n",
       "0                                        0           1  \n",
       "1                                        0           1  \n",
       "2                                        0           1  \n",
       "3                                        0           1  \n",
       "4                                        0           1  \n",
       "\n",
       "[5 rows x 27 columns]"
      ]
     },
     "execution_count": 176,
     "metadata": {},
     "output_type": "execute_result"
    }
   ],
   "source": [
    "mt.dropna(subset=[\"permalink\"], inplace=True)\n",
    "mt.head()"
   ]
  },
  {
   "cell_type": "code",
   "execution_count": 177,
   "metadata": {},
   "outputs": [],
   "source": [
    "country_1 = mt.loc[mt['country_code'] == 'USA']\n",
    "country_2 = mt.loc[mt['country_code'] == 'GBR']\n",
    "country_3 = mt.loc[mt['country_code'] == 'IND']"
   ]
  },
  {
   "cell_type": "markdown",
   "metadata": {},
   "source": [
    "## Country 1 Analysis"
   ]
  },
  {
   "cell_type": "code",
   "execution_count": 178,
   "metadata": {},
   "outputs": [
    {
     "name": "stderr",
     "output_type": "stream",
     "text": [
      "C:\\Users\\hpakki\\AppData\\Local\\Continuum\\anaconda3\\lib\\site-packages\\ipykernel_launcher.py:2: SettingWithCopyWarning: \n",
      "A value is trying to be set on a copy of a slice from a DataFrame.\n",
      "Try using .loc[row_indexer,col_indexer] = value instead\n",
      "\n",
      "See the caveats in the documentation: http://pandas.pydata.org/pandas-docs/stable/user_guide/indexing.html#returning-a-view-versus-a-copy\n",
      "  \n"
     ]
    }
   ],
   "source": [
    "in_c_1 = country_1[['permalink','country_code','raised_amount_usd','funding_round_type','totalscore']]\n",
    "in_c_1['raised_amount_usd'] = in_c_1['raised_amount_usd'].astype('float64')\n",
    "#Grouping the data\n",
    "count_c_1 = in_c_1.groupby(['funding_round_type'],as_index=False).sum()\n",
    "count_c_1 = count_c_1.sort_values(by = ['totalscore'], ascending= False)\n",
    "#Finding required values\n",
    "count_of_c_1 = count_c_1['totalscore'].sum()\n",
    "sum_of_c_1 = count_c_1['raised_amount_usd'].sum()"
   ]
  },
  {
   "cell_type": "code",
   "execution_count": 179,
   "metadata": {},
   "outputs": [],
   "source": [
    "#analysis for first sector name\n",
    "comp_c1 = country_1.loc[country_1['funding_round_type']== 'venture']\n",
    "comp_c1 = comp_c1[['permalink','raised_amount_usd']]\n",
    "comp_c1['raised_amount_usd'] = comp_c1['raised_amount_usd'].astype('float64')\n",
    "comp_c1 = comp_c1.groupby(['permalink'],as_index=False).sum()\n",
    "comp_c1= comp_c1.sort_values(by = ['raised_amount_usd'], ascending= False)\n",
    "comp_c1 = comp_c1.head(5)"
   ]
  },
  {
   "cell_type": "code",
   "execution_count": 180,
   "metadata": {},
   "outputs": [],
   "source": [
    "#analysis for second sector name\n",
    "comp_c2 = country_1.loc[country_1['funding_round_type']== 'seed']\n",
    "comp_c2 = comp_c2[['permalink','raised_amount_usd']]\n",
    "comp_c2['raised_amount_usd'] = comp_c2['raised_amount_usd'].astype('float64')\n",
    "comp_c2 = comp_c2.groupby(['permalink'],as_index=False).sum()\n",
    "comp_c2= comp_c2.sort_values(by = ['raised_amount_usd'], ascending= False)\n",
    "comp_c2 = comp_c2.head(5)"
   ]
  },
  {
   "cell_type": "code",
   "execution_count": 181,
   "metadata": {},
   "outputs": [
    {
     "name": "stdout",
     "output_type": "stream",
     "text": [
      "33760\n"
     ]
    }
   ],
   "source": [
    "print(count_of_c_1) #total number of investments"
   ]
  },
  {
   "cell_type": "code",
   "execution_count": 182,
   "metadata": {},
   "outputs": [
    {
     "name": "stdout",
     "output_type": "stream",
     "text": [
      "293764599957.0\n"
     ]
    }
   ],
   "source": [
    "print(sum_of_c_1) #Total Amount of Investment"
   ]
  },
  {
   "cell_type": "code",
   "execution_count": 183,
   "metadata": {},
   "outputs": [
    {
     "name": "stdout",
     "output_type": "stream",
     "text": [
      "       funding_round_type  raised_amount_usd  totalscore\n",
      "13                venture   197997029400.000       20148\n",
      "11                   seed     3045438836.000        4521\n",
      "2          debt_financing    29619958339.000        3710\n",
      "3     equity_crowdfunding      237801799.000        1504\n",
      "12            undisclosed     2599866114.000         986\n",
      "8          private_equity    33139525801.000         737\n",
      "4                   grant     4997063136.000         667\n",
      "0                   angel      532626820.000         613\n",
      "1        convertible_note      714111480.000         469\n",
      "7         post_ipo_equity    10547491377.000         209\n",
      "6           post_ipo_debt     9727872605.000          79\n",
      "9    product_crowdfunding      162083138.000          62\n",
      "5   non_equity_assistance       15185000.000          39\n",
      "10       secondary_market      428546112.000          16\n"
     ]
    }
   ],
   "source": [
    "print(count_c_1) #Sectors sorted based on number of investments\n"
   ]
  },
  {
   "cell_type": "code",
   "execution_count": 184,
   "metadata": {},
   "outputs": [
    {
     "name": "stdout",
     "output_type": "stream",
     "text": [
      "                                  permalink  raised_amount_usd\n",
      "3844                /Organization/Freescale    17600000000.000\n",
      "1265             /Organization/Better-Place      775000000.000\n",
      "6102  /Organization/Metropcs-Communications      739000000.000\n",
      "9237                 /Organization/Solyndra      660200000.000\n",
      "2509              /Organization/Coreexpress      573000000.000\n"
     ]
    }
   ],
   "source": [
    "print(comp_c1) #Company that received highest funding in top sector"
   ]
  },
  {
   "cell_type": "code",
   "execution_count": 186,
   "metadata": {},
   "outputs": [
    {
     "name": "stdout",
     "output_type": "stream",
     "text": [
      "                              permalink  raised_amount_usd\n",
      "2448         /Organization/Pharmanation       25000000.000\n",
      "1453         /Organization/Heyanita-Inc       22300000.000\n",
      "616          /Organization/Choicestream       15000000.000\n",
      "1422        /Organization/Hbi-Solutions       12600000.000\n",
      "1689  /Organization/Keahole-Solar-Power       11000000.000\n"
     ]
    }
   ],
   "source": [
    "print(comp_c2) #Comapny that receive highest funding in second best sector"
   ]
  },
  {
   "cell_type": "markdown",
   "metadata": {},
   "source": [
    "## Country 2 Analysis"
   ]
  },
  {
   "cell_type": "code",
   "execution_count": 187,
   "metadata": {},
   "outputs": [
    {
     "name": "stderr",
     "output_type": "stream",
     "text": [
      "C:\\Users\\hpakki\\AppData\\Local\\Continuum\\anaconda3\\lib\\site-packages\\ipykernel_launcher.py:2: SettingWithCopyWarning: \n",
      "A value is trying to be set on a copy of a slice from a DataFrame.\n",
      "Try using .loc[row_indexer,col_indexer] = value instead\n",
      "\n",
      "See the caveats in the documentation: http://pandas.pydata.org/pandas-docs/stable/user_guide/indexing.html#returning-a-view-versus-a-copy\n",
      "  \n"
     ]
    }
   ],
   "source": [
    "in_c_1 = country_2[['permalink','country_code','raised_amount_usd','funding_round_type','totalscore']]\n",
    "in_c_1['raised_amount_usd'] = in_c_1['raised_amount_usd'].astype('float64')\n",
    "\n",
    "count_c_1 = in_c_1.groupby(['funding_round_type'],as_index=False).sum()\n",
    "count_c_1 = count_c_1.sort_values(['totalscore'], ascending= False)\n",
    "\n",
    "count_of_c_1 = count_c_1['totalscore'].sum()\n",
    "sum_of_c_1 = count_c_1['raised_amount_usd'].sum()"
   ]
  },
  {
   "cell_type": "code",
   "execution_count": 195,
   "metadata": {},
   "outputs": [],
   "source": [
    "comp_c1 = country_2.loc[country_2['funding_round_type']== 'venture']\n",
    "comp_c1 = comp_c1[['permalink','raised_amount_usd']]\n",
    "comp_c1['raised_amount_usd'] = comp_c1['raised_amount_usd'].astype('float64')\n",
    "comp_c1 = comp_c1.groupby(['permalink'],as_index=False).sum()\n",
    "comp_c1= comp_c1.sort_values(by = ['raised_amount_usd'], ascending= False)\n",
    "comp_c1 = comp_c1.head(5)"
   ]
  },
  {
   "cell_type": "code",
   "execution_count": 196,
   "metadata": {},
   "outputs": [],
   "source": [
    "comp_c2 = country_2.loc[country_2['funding_round_type']== 'seed']\n",
    "comp_c2 = comp_c2[['permalink','raised_amount_usd']]\n",
    "comp_c2['raised_amount_usd'] = comp_c2['raised_amount_usd'].astype('float64')\n",
    "comp_c2 = comp_c2.groupby(['permalink'],as_index=False).sum()\n",
    "comp_c2= comp_c2.sort_values(by = ['raised_amount_usd'], ascending= False)\n",
    "comp_c2 = comp_c2.head(5)"
   ]
  },
  {
   "cell_type": "code",
   "execution_count": 197,
   "metadata": {},
   "outputs": [
    {
     "name": "stdout",
     "output_type": "stream",
     "text": [
      "2513\n"
     ]
    }
   ],
   "source": [
    "print(count_of_c_1) #total number of investments"
   ]
  },
  {
   "cell_type": "code",
   "execution_count": 198,
   "metadata": {},
   "outputs": [
    {
     "name": "stdout",
     "output_type": "stream",
     "text": [
      "19492900803.0\n"
     ]
    }
   ],
   "source": [
    "print(sum_of_c_1) #Total Investment"
   ]
  },
  {
   "cell_type": "code",
   "execution_count": 199,
   "metadata": {},
   "outputs": [
    {
     "name": "stdout",
     "output_type": "stream",
     "text": [
      "       funding_round_type  raised_amount_usd  totalscore\n",
      "12                venture    12114999733.000        1246\n",
      "10                   seed      342562657.000         447\n",
      "11            undisclosed      994059927.000         352\n",
      "3     equity_crowdfunding       65476415.000         148\n",
      "0                   angel       49974826.000          94\n",
      "8          private_equity     3186858928.000          70\n",
      "4                   grant      782678868.000          55\n",
      "2          debt_financing      545282136.000          50\n",
      "7         post_ipo_equity     1218757942.000          25\n",
      "9    product_crowdfunding       68922235.000          17\n",
      "1        convertible_note        3327136.000           7\n",
      "5   non_equity_assistance              0.000           1\n",
      "6           post_ipo_debt      120000000.000           1\n"
     ]
    }
   ],
   "source": [
    "print(count_c_1) #Sectors sorted based on number of investments"
   ]
  },
  {
   "cell_type": "code",
   "execution_count": 200,
   "metadata": {},
   "outputs": [
    {
     "name": "stdout",
     "output_type": "stream",
     "text": [
      "                                  permalink  raised_amount_usd\n",
      "719                /Organization/Softvianet      915000000.000\n",
      "544                    /Organization/Oneweb      500000000.000\n",
      "197                 /Organization/Deliveroo      199585753.000\n",
      "534  /Organization/Official-Limited-Virtual      170604000.000\n",
      "62                  /Organization/Atom-Bank      167163877.000\n"
     ]
    }
   ],
   "source": [
    "print(comp_c1) #Companies sorted based on investment received in top sector"
   ]
  },
  {
   "cell_type": "code",
   "execution_count": 201,
   "metadata": {},
   "outputs": [
    {
     "name": "stdout",
     "output_type": "stream",
     "text": [
      "                             permalink  raised_amount_usd\n",
      "182  /Organization/Magnus-Life-Science       24833177.000\n",
      "92    /Organization/Entrepreneur-First        9646746.000\n",
      "16      /Organization/Aspects-Software        7761532.000\n",
      "14                 /Organization/Arkex        7356643.000\n",
      "39               /Organization/Camsemi        5987939.000\n"
     ]
    }
   ],
   "source": [
    "print(comp_c2) #companies sorted based on investment received in second best sector"
   ]
  },
  {
   "cell_type": "markdown",
   "metadata": {},
   "source": [
    "##Country 3 Analysis"
   ]
  },
  {
   "cell_type": "code",
   "execution_count": 203,
   "metadata": {},
   "outputs": [
    {
     "name": "stderr",
     "output_type": "stream",
     "text": [
      "C:\\Users\\hpakki\\AppData\\Local\\Continuum\\anaconda3\\lib\\site-packages\\ipykernel_launcher.py:2: SettingWithCopyWarning: \n",
      "A value is trying to be set on a copy of a slice from a DataFrame.\n",
      "Try using .loc[row_indexer,col_indexer] = value instead\n",
      "\n",
      "See the caveats in the documentation: http://pandas.pydata.org/pandas-docs/stable/user_guide/indexing.html#returning-a-view-versus-a-copy\n",
      "  \n"
     ]
    }
   ],
   "source": [
    "in_c_1 = country_3[['permalink','country_code','raised_amount_usd','funding_round_type','totalscore']]\n",
    "in_c_1['raised_amount_usd'] = in_c_1['raised_amount_usd'].astype('float64')"
   ]
  },
  {
   "cell_type": "code",
   "execution_count": 204,
   "metadata": {},
   "outputs": [],
   "source": [
    "count_c_1 = in_c_1.groupby(['funding_round_type'],as_index=False).sum()\n",
    "count_c_1 = count_c_1.sort_values(by = ['totalscore'], ascending= False)"
   ]
  },
  {
   "cell_type": "code",
   "execution_count": 205,
   "metadata": {},
   "outputs": [],
   "source": [
    "count_of_c_1 = count_c_1['totalscore'].sum()\n",
    "sum_of_c_1 = count_c_1['raised_amount_usd'].sum()"
   ]
  },
  {
   "cell_type": "code",
   "execution_count": 206,
   "metadata": {},
   "outputs": [],
   "source": [
    "comp_c1 = country_3.loc[country_3['funding_round_type']== 'venture']\n",
    "comp_c1 = comp_c1[['permalink','raised_amount_usd']]\n",
    "comp_c1['raised_amount_usd'] = comp_c1['raised_amount_usd'].astype('float64')\n",
    "comp_c1 = comp_c1.groupby(['permalink'],as_index=False).sum()\n",
    "comp_c1= comp_c1.sort_values(by = ['raised_amount_usd'], ascending= False)\n",
    "comp_c1 = comp_c1.head(5)"
   ]
  },
  {
   "cell_type": "code",
   "execution_count": 213,
   "metadata": {},
   "outputs": [],
   "source": [
    "comp_c2 = country_3.loc[country_3['funding_round_type']== 'seed']\n",
    "comp_c2 = comp_c2[['permalink','raised_amount_usd']]\n",
    "comp_c2['raised_amount_usd'] = comp_c2['raised_amount_usd'].astype('float64')\n",
    "comp_c2 = comp_c2.groupby(['permalink'],as_index=False).sum()\n",
    "comp_c2= comp_c2.sort_values(by = ['raised_amount_usd'], ascending= False)\n",
    "comp_c2 = comp_c2.head(5)"
   ]
  },
  {
   "cell_type": "code",
   "execution_count": 214,
   "metadata": {},
   "outputs": [
    {
     "name": "stdout",
     "output_type": "stream",
     "text": [
      "1067\n"
     ]
    }
   ],
   "source": [
    "print(count_of_c_1) #total number of investments"
   ]
  },
  {
   "cell_type": "code",
   "execution_count": 215,
   "metadata": {},
   "outputs": [
    {
     "name": "stdout",
     "output_type": "stream",
     "text": [
      "12430253713.0\n"
     ]
    }
   ],
   "source": [
    "print(sum_of_c_1) #Total Investment"
   ]
  },
  {
   "cell_type": "code",
   "execution_count": 216,
   "metadata": {},
   "outputs": [
    {
     "name": "stdout",
     "output_type": "stream",
     "text": [
      "      funding_round_type  raised_amount_usd  totalscore\n",
      "11               venture     5316175020.000         490\n",
      "9                   seed      145673733.000         323\n",
      "0                  angel       33539634.000         130\n",
      "10           undisclosed      913183326.000          50\n",
      "6         private_equity     4678030000.000          38\n",
      "3    equity_crowdfunding         109000.000          15\n",
      "2         debt_financing     1142377000.000          14\n",
      "1       convertible_note       50006000.000           2\n",
      "8       secondary_market         210000.000           2\n",
      "4                  grant       25900000.000           1\n",
      "5        post_ipo_equity      125000000.000           1\n",
      "7   product_crowdfunding          50000.000           1\n"
     ]
    }
   ],
   "source": [
    "print(count_c_1) #Sectors sorted based on number of investments"
   ]
  },
  {
   "cell_type": "code",
   "execution_count": 217,
   "metadata": {},
   "outputs": [
    {
     "name": "stdout",
     "output_type": "stream",
     "text": [
      "                       permalink  raised_amount_usd\n",
      "254    /Organization/Quikr-India      346000000.000\n",
      "285       /Organization/Snapdeal      310699998.000\n",
      "205         /Organization/Myntra      158750000.000\n",
      "231  /Organization/Pepperfry-Com      128000000.000\n",
      "207        /Organization/Naaptol      106200000.000\n"
     ]
    }
   ],
   "source": [
    "print(comp_c1) #Companies sorted based on investment received in top sector"
   ]
  },
  {
   "cell_type": "code",
   "execution_count": 218,
   "metadata": {},
   "outputs": [
    {
     "name": "stdout",
     "output_type": "stream",
     "text": [
      "                                    permalink  raised_amount_usd\n",
      "282                /Organization/Welcome-Cure        6000000.000\n",
      "138                    /Organization/Inurture        4897824.000\n",
      "92   /Organization/Gayatrishakti-Paper-Boards        4000000.000\n",
      "61                  /Organization/Eatshoplove        3500000.000\n",
      "112                    /Organization/Holachef        3420000.000\n"
     ]
    }
   ],
   "source": [
    "print(comp_c2) #companies sorted based on investment received in second best sector"
   ]
  },
  {
   "cell_type": "code",
   "execution_count": 221,
   "metadata": {},
   "outputs": [
    {
     "data": {
      "text/plain": [
       "Text(0, 0.5, 'Raised_amount_usd')"
      ]
     },
     "execution_count": 221,
     "metadata": {},
     "output_type": "execute_result"
    },
    {
     "data": {
      "image/png": "[encoded data removed]",
      "text/plain": [
       "<Figure size 432x288 with 1 Axes>"
      ]
     },
     "metadata": {
      "needs_background": "light"
     },
     "output_type": "display_data"
    }
   ],
   "source": [
    "## Plot for country 1\n",
    "\n",
    "Plot_c11 = country_1.loc[country_1['funding_round_type']== 'venture']\n",
    "Plot_c12 = country_1.loc[country_1['funding_round_type']== 'seed']\n",
    "Plot_c13 = country_1.loc[country_1['funding_round_type']== 'debt_financing']\n",
    "plot_c1 = pd.concat([Plot_c11, Plot_c12,Plot_c13])\n",
    "plot_c1 = plot_c1[['permalink','country_code','raised_amount_usd','funding_round_type','totalscore']]\n",
    "plot_c1['raised_amount_usd'] = plot_c1['raised_amount_usd'].astype('float64')\n",
    "plot_c1 = plot_c1.groupby(['funding_round_type'],as_index=False).mean()\n",
    "plot_c1\n",
    "\n",
    "my_plot_1 = plot_c1.sort_values(by='raised_amount_usd',ascending=False).plot(kind='bar',legend=None,title=\"Country 1\")\n",
    "my_plot_1.set_xlabel(\"funding_round_type\")\n",
    "my_plot_1.set_ylabel(\"Raised_amount_usd\")"
   ]
  },
  {
   "cell_type": "code",
   "execution_count": 223,
   "metadata": {},
   "outputs": [
    {
     "data": {
      "text/plain": [
       "Text(0, 0.5, 'Raised_amount_usd')"
      ]
     },
     "execution_count": 223,
     "metadata": {},
     "output_type": "execute_result"
    },
    {
     "data": {
      "image/png": "[encoded data removed]",
      "text/plain": [
       "<Figure size 432x288 with 1 Axes>"
      ]
     },
     "metadata": {
      "needs_background": "light"
     },
     "output_type": "display_data"
    }
   ],
   "source": [
    "## Plot for country 2\n",
    "Plot_c21 = country_2.loc[country_2['funding_round_type']== 'venture']\n",
    "Plot_c22 = country_2.loc[country_2['funding_round_type']== 'seed']\n",
    "Plot_c23 = country_2.loc[country_2['funding_round_type']== 'undisclosed']\n",
    "plot_c2 = pd.concat([Plot_c21, Plot_c22,Plot_c23])\n",
    "plot_c2 = plot_c2[['permalink','country_code','raised_amount_usd','funding_round_type','totalscore']]\n",
    "plot_c2['raised_amount_usd'] = plot_c2['raised_amount_usd'].astype('float64')\n",
    "plot_c2 = plot_c2.groupby(['funding_round_type'],as_index=False).mean()\n",
    "plot_c2\n",
    "\n",
    "my_plot_2 = plot_c2.sort_values(by='raised_amount_usd',ascending=False).plot(kind='bar',legend=None,title=\"Country 2\")\n",
    "my_plot_2.set_xlabel(\"funding_round_type\")\n",
    "my_plot_2.set_ylabel(\"Raised_amount_usd\")"
   ]
  },
  {
   "cell_type": "code",
   "execution_count": 224,
   "metadata": {},
   "outputs": [
    {
     "data": {
      "text/plain": [
       "Text(0, 0.5, 'Raised_amount_usd')"
      ]
     },
     "execution_count": 224,
     "metadata": {},
     "output_type": "execute_result"
    },
    {
     "data": {
      "image/png": "[encoded data removed]",
      "text/plain": [
       "<Figure size 432x288 with 1 Axes>"
      ]
     },
     "metadata": {
      "needs_background": "light"
     },
     "output_type": "display_data"
    }
   ],
   "source": [
    "## Plot for country 3\n",
    "\n",
    "Plot_c31 = country_3.loc[country_3['funding_round_type']== 'venture']\n",
    "Plot_c32 = country_3.loc[country_3['funding_round_type']== 'seed']\n",
    "Plot_c33 = country_3.loc[country_3['funding_round_type']== 'angel']\n",
    "plot_c3 = pd.concat([Plot_c31, Plot_c32,Plot_c33])\n",
    "plot_c3 = plot_c3[['permalink','country_code','raised_amount_usd','funding_round_type','totalscore']]\n",
    "plot_c3['raised_amount_usd'] = plot_c3['raised_amount_usd'].astype('float64')\n",
    "plot_c3 = plot_c3.groupby(['funding_round_type'],as_index=False).mean()\n",
    "plot_c3\n",
    "\n",
    "my_plot_3 = plot_c3.sort_values(by='raised_amount_usd',ascending=False).plot(kind='bar',legend=None,title=\"Country 3\")\n",
    "my_plot_3.set_xlabel(\"funding_round_type\")\n",
    "my_plot_3.set_ylabel(\"Raised_amount_usd\")"
   ]
  }
 ],
 "metadata": {
  "kernelspec": {
   "display_name": "Python 3",
   "language": "python",
   "name": "python3"
  },
  "language_info": {
   "codemirror_mode": {
    "name": "ipython",
    "version": 3
   },
   "file_extension": ".py",
   "mimetype": "text/x-python",
   "name": "python",
   "nbconvert_exporter": "python",
   "pygments_lexer": "ipython3",
   "version": "3.7.4"
  }
 },
 "nbformat": 4,
 "nbformat_minor": 2
}
